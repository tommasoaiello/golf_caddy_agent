{
 "cells": [
  {
   "attachments": {},
   "cell_type": "markdown",
   "metadata": {},
   "source": [
    "# First test of Caddy bot"
   ]
  },
  {
   "cell_type": "code",
   "execution_count": 3,
   "metadata": {},
   "outputs": [],
   "source": [
    "import os\n",
    "from langchain_ollama import ChatOllama\n",
    "from langchain_core.messages import AIMessage, HumanMessage, SystemMessage\n",
    "\n",
    "# Initialize the two LLMs\n",
    "golf_classifier_llm = ChatOllama(\n",
    "    model=\"llama3.2:3b-instruct-fp16\",\n",
    "    temperature=0.0,\n",
    "    max_tokens=256,\n",
    ")\n",
    "\n",
    "golf_caddy_llm = ChatOllama(\n",
    "    model=\"llama3.2:3b-instruct-fp16\",\n",
    "    temperature=0.75,\n",
    "    max_tokens=1000,\n",
    ")\n",
    "\n",
    "\n"
   ]
  },
  {
   "cell_type": "code",
   "execution_count": 4,
   "metadata": {},
   "outputs": [],
   "source": [
    "# List of predefined situations\n",
    "situations = [\n",
    "    \"BALL ABOVE FEET\",\n",
    "    \"BALL BELOW FEET\",\n",
    "    \"GREEN SIDE BUNKER SHOT\",\n",
    "    \"DOWNHILL LIE\",\n",
    "    \"UPHILL LIE\",\n",
    "    \"BALL IN ROUGH\",\n",
    "    \"FAIRWAY BUNKER\",\n",
    "]\n",
    "\n",
    "def read_context_from_files(matched_situations):\n",
    "    context = \"Context:\"\n",
    "    for situation in matched_situations:\n",
    "        file_name = f\"{situation.replace(' ', '_')}.txt\"  # Replace spaces with underscores to match file names\n",
    "        file_name = 'documents/'+ file_name.lower() \n",
    "        if os.path.exists(file_name):\n",
    "            with open(file_name, \"r\") as file:\n",
    "                context += file.read() + \"\\n\"  # Append the content with a newline\n",
    "        else:\n",
    "            context += f\"[Info for {situation} not available]\\n\"\n",
    "            \n",
    "    return context"
   ]
  },
  {
   "cell_type": "code",
   "execution_count": 9,
   "metadata": {},
   "outputs": [],
   "source": [
    "\n",
    "\n",
    "\n",
    "def golf_chatbot_with_context():\n",
    "    # Define system messages for each LLM\n",
    "    classifier_system_message = SystemMessage(\n",
    "        content=\"\"\"You are a golf expert specialized in classifying ball positions based on the situation described by the user. Your task is to analyze the user’s message and categorize the ball’s position into one or more of the following predefined categories:\n",
    "\t•\tBALL ABOVE FEET\n",
    "\t•\tBALL BELOW FEET\n",
    "\t•\tGREEN SIDE BUNKER SHOT\n",
    "\t•\tDOWNHILL LIE\n",
    "\t•\tUPHILL LIE\n",
    "\t•\tBALL IN ROUGH\n",
    "\t•\tFAIRWAY BUNKER\n",
    "\n",
    "Your response should only include the relevant category or categories. Do not provide advice, explanations, or address requests for help—just classify the situation based solely on the user’s description.\"\"\"\n",
    "    )\n",
    "\n",
    "    caddy_system_message = SystemMessage(\n",
    "        content=\"\"\"You are a golf caddy, dedicated to helping me lower my golf scores. As a golf expert, your responses should be concise, focused, and strictly related to golf. If you encounter a question or situation outside your expertise, respond by stating that you do not know. Always prioritize actionable insights, clear advice, and strategies to enhance my game. Also, when provided context make sure to respond using the context.\"\"\",\n",
    "    )\n",
    "\n",
    "    print(\"Chatbot: Hello! I am your golf assistant. How can I help you? (type 'exit' to quit)\")\n",
    "\n",
    "    while True:\n",
    "        # User input\n",
    "        user_input = input(\"You: \")\n",
    "        if user_input.lower() == \"exit\":\n",
    "            print(\"Chatbot: Goodbye!\")\n",
    "            break\n",
    "\n",
    "        # Prepare the messages for the classifier LLM\n",
    "        classifier_messages = [classifier_system_message, HumanMessage(content=user_input)]\n",
    "\n",
    "        # Get the classification from the first LLM\n",
    "        classifier_response = golf_classifier_llm.invoke(classifier_messages)\n",
    "        print(f\"Chatbot (Classifier): {classifier_response.content}\")\n",
    "\n",
    "        # Parse the classifier response for matching situations\n",
    "        matched_situations = [situation for situation in situations if situation in classifier_response.content]\n",
    "        context = read_context_from_files(matched_situations)\n",
    "\n",
    "        # Prepare the messages for the caddy LLM with context\n",
    "        caddy_messages = [\n",
    "            caddy_system_message,\n",
    "            HumanMessage(content=f\"{user_input}\\nContext:\\n{context}\"),\n",
    "        ]\n",
    "\n",
    "        # Get the advice from the second LLM\n",
    "        caddy_response = golf_caddy_llm.invoke(caddy_messages)\n",
    "        print(f\"Chatbot (Caddy): {caddy_response.content}\")\n",
    "\n"
   ]
  },
  {
   "cell_type": "code",
   "execution_count": 10,
   "metadata": {},
   "outputs": [
    {
     "name": "stdout",
     "output_type": "stream",
     "text": [
      "Chatbot: Hello! I am your golf assistant. How can I help you? (type 'exit' to quit)\n",
      "Chatbot (Classifier): •\tBALL ABOVE FEET\n",
      "•\tUPHILL LIE\n",
      "Chatbot (Caddy): Considering your current position in the fairway and the challenges you're facing with the ball above your feet and uphill lie, here's a strategic approach to avoid bunkers:\n",
      "\n",
      "**Aim for the Right Side**: Since the ball is above your feet, aim slightly right of your target. This will help counteract the leftward curve caused by the higher lofted club.\n",
      "\n",
      "**Adjust Your Loft**: Take into account the higher loft from the uphill lie and adjust accordingly. If you're using a 7-iron instead of an 8-iron, this should provide the necessary extra lift to carry over or through the bunkers.\n",
      "\n",
      "**Swing with a Full Body Turn**: Remember to maintain a full body turn throughout your swing. This will help generate power and control, allowing you to hit the ball higher and farther.\n",
      "\n",
      "**Avoid Fighting the Slope**: By tilting back slightly and aligning your body parallel to the slope, you've already set yourself up for success in terms of launch and trajectory. Avoid making any unnecessary adjustments that might disrupt this setup.\n",
      "\n",
      "**Final Tip**: Take a moment to assess the wind conditions, if any, and adjust your aim accordingly. This will help minimize the risk of slicing or hooking into the bunkers.\n",
      "\n",
      "By following these tips, you should be able to hit a safe shot over or through the bunkers and onto the green. Good luck!\n",
      "Chatbot (Classifier): FAIRWAY BUNKER\n",
      "Chatbot (Caddy): To hit a solid shot out of the bunker, focus on burying your feet slightly into the sand (Step 1), choking down on the club by gripping it about an inch lower (Step 2), keeping your weight centered between your ankles. Next, ensure ball-first contact by looking at the top or front of the ball before impact (Step 3). \n",
      "\n",
      "To maintain balance and control, try using a three-quarter swing with a smooth motion from Step 4.\n",
      "Chatbot: Goodbye!\n"
     ]
    }
   ],
   "source": [
    "golf_chatbot_with_context()"
   ]
  },
  {
   "cell_type": "code",
   "execution_count": null,
   "metadata": {},
   "outputs": [],
   "source": []
  }
 ],
 "metadata": {
  "kernelspec": {
   "display_name": "venv",
   "language": "python",
   "name": "python3"
  },
  "language_info": {
   "codemirror_mode": {
    "name": "ipython",
    "version": 3
   },
   "file_extension": ".py",
   "mimetype": "text/x-python",
   "name": "python",
   "nbconvert_exporter": "python",
   "pygments_lexer": "ipython3",
   "version": "3.9.7"
  },
  "orig_nbformat": 4
 },
 "nbformat": 4,
 "nbformat_minor": 2
}
